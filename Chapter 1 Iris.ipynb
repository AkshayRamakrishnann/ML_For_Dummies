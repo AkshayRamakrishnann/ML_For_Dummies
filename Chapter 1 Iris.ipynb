{
  "nbformat": 4,
  "nbformat_minor": 0,
  "metadata": {
    "colab": {
      "provenance": []
    },
    "kernelspec": {
      "name": "python3",
      "display_name": "Python 3"
    },
    "language_info": {
      "name": "python"
    }
  },
  "cells": [
    {
      "cell_type": "code",
      "execution_count": null,
      "metadata": {
        "id": "zbX8xHwzun6k"
      },
      "outputs": [],
      "source": [
        "import numpy as np       # NumPy is a library for working with arrays of numerical data in Python\n",
        "import pandas as pd      # Pandas is a library for data manipulation and analysis\n",
        "import seaborn as sns    # Seaborn is a library for creating informative and attractive statistical graphics in Python\n",
        "import matplotlib.pyplot as plt   # Matplotlib is a library for creating static, animated, and interactive visualizations in Python\n"
      ]
    },
    {
      "cell_type": "code",
      "source": [
        "# read the CSV file \"Iris.csv\" into a Pandas DataFrame called \"iris\"\n",
        "iris = pd.read_csv(\"Iris.csv\")"
      ],
      "metadata": {
        "id": "YbAlw9ePvq6-"
      },
      "execution_count": null,
      "outputs": []
    },
    {
      "cell_type": "code",
      "source": [
        "# display information about the \"iris\" DataFrame, including the data types and number of non-null values for each column\n",
        "iris.info()"
      ],
      "metadata": {
        "colab": {
          "base_uri": "https://localhost:8080/"
        },
        "id": "AmMCgQE0wQ8T",
        "outputId": "7f535e90-d457-42ea-95c4-f70a7984e2f5"
      },
      "execution_count": null,
      "outputs": [
        {
          "output_type": "stream",
          "name": "stdout",
          "text": [
            "<class 'pandas.core.frame.DataFrame'>\n",
            "RangeIndex: 150 entries, 0 to 149\n",
            "Data columns (total 6 columns):\n",
            " #   Column         Non-Null Count  Dtype  \n",
            "---  ------         --------------  -----  \n",
            " 0   Id             150 non-null    int64  \n",
            " 1   SepalLengthCm  150 non-null    float64\n",
            " 2   SepalWidthCm   150 non-null    float64\n",
            " 3   PetalLengthCm  150 non-null    float64\n",
            " 4   PetalWidthCm   150 non-null    float64\n",
            " 5   Species        150 non-null    object \n",
            "dtypes: float64(4), int64(1), object(1)\n",
            "memory usage: 7.2+ KB\n"
          ]
        }
      ]
    },
    {
      "cell_type": "code",
      "source": [
        "iris.head()  # display the first five rows of the \"iris\" DataFrame\n"
      ],
      "metadata": {
        "colab": {
          "base_uri": "https://localhost:8080/",
          "height": 206
        },
        "id": "rFmtjfdRwWKR",
        "outputId": "69ee9d6c-233f-446c-b893-4905749426ca"
      },
      "execution_count": null,
      "outputs": [
        {
          "output_type": "execute_result",
          "data": {
            "text/plain": [
              "   Id  SepalLengthCm  SepalWidthCm  PetalLengthCm  PetalWidthCm      Species\n",
              "0   1            5.1           3.5            1.4           0.2  Iris-setosa\n",
              "1   2            4.9           3.0            1.4           0.2  Iris-setosa\n",
              "2   3            4.7           3.2            1.3           0.2  Iris-setosa\n",
              "3   4            4.6           3.1            1.5           0.2  Iris-setosa\n",
              "4   5            5.0           3.6            1.4           0.2  Iris-setosa"
            ],
            "text/html": [
              "\n",
              "  <div id=\"df-c61c5454-fcb6-42e7-8e23-456c96359958\">\n",
              "    <div class=\"colab-df-container\">\n",
              "      <div>\n",
              "<style scoped>\n",
              "    .dataframe tbody tr th:only-of-type {\n",
              "        vertical-align: middle;\n",
              "    }\n",
              "\n",
              "    .dataframe tbody tr th {\n",
              "        vertical-align: top;\n",
              "    }\n",
              "\n",
              "    .dataframe thead th {\n",
              "        text-align: right;\n",
              "    }\n",
              "</style>\n",
              "<table border=\"1\" class=\"dataframe\">\n",
              "  <thead>\n",
              "    <tr style=\"text-align: right;\">\n",
              "      <th></th>\n",
              "      <th>Id</th>\n",
              "      <th>SepalLengthCm</th>\n",
              "      <th>SepalWidthCm</th>\n",
              "      <th>PetalLengthCm</th>\n",
              "      <th>PetalWidthCm</th>\n",
              "      <th>Species</th>\n",
              "    </tr>\n",
              "  </thead>\n",
              "  <tbody>\n",
              "    <tr>\n",
              "      <th>0</th>\n",
              "      <td>1</td>\n",
              "      <td>5.1</td>\n",
              "      <td>3.5</td>\n",
              "      <td>1.4</td>\n",
              "      <td>0.2</td>\n",
              "      <td>Iris-setosa</td>\n",
              "    </tr>\n",
              "    <tr>\n",
              "      <th>1</th>\n",
              "      <td>2</td>\n",
              "      <td>4.9</td>\n",
              "      <td>3.0</td>\n",
              "      <td>1.4</td>\n",
              "      <td>0.2</td>\n",
              "      <td>Iris-setosa</td>\n",
              "    </tr>\n",
              "    <tr>\n",
              "      <th>2</th>\n",
              "      <td>3</td>\n",
              "      <td>4.7</td>\n",
              "      <td>3.2</td>\n",
              "      <td>1.3</td>\n",
              "      <td>0.2</td>\n",
              "      <td>Iris-setosa</td>\n",
              "    </tr>\n",
              "    <tr>\n",
              "      <th>3</th>\n",
              "      <td>4</td>\n",
              "      <td>4.6</td>\n",
              "      <td>3.1</td>\n",
              "      <td>1.5</td>\n",
              "      <td>0.2</td>\n",
              "      <td>Iris-setosa</td>\n",
              "    </tr>\n",
              "    <tr>\n",
              "      <th>4</th>\n",
              "      <td>5</td>\n",
              "      <td>5.0</td>\n",
              "      <td>3.6</td>\n",
              "      <td>1.4</td>\n",
              "      <td>0.2</td>\n",
              "      <td>Iris-setosa</td>\n",
              "    </tr>\n",
              "  </tbody>\n",
              "</table>\n",
              "</div>\n",
              "      <button class=\"colab-df-convert\" onclick=\"convertToInteractive('df-c61c5454-fcb6-42e7-8e23-456c96359958')\"\n",
              "              title=\"Convert this dataframe to an interactive table.\"\n",
              "              style=\"display:none;\">\n",
              "        \n",
              "  <svg xmlns=\"http://www.w3.org/2000/svg\" height=\"24px\"viewBox=\"0 0 24 24\"\n",
              "       width=\"24px\">\n",
              "    <path d=\"M0 0h24v24H0V0z\" fill=\"none\"/>\n",
              "    <path d=\"M18.56 5.44l.94 2.06.94-2.06 2.06-.94-2.06-.94-.94-2.06-.94 2.06-2.06.94zm-11 1L8.5 8.5l.94-2.06 2.06-.94-2.06-.94L8.5 2.5l-.94 2.06-2.06.94zm10 10l.94 2.06.94-2.06 2.06-.94-2.06-.94-.94-2.06-.94 2.06-2.06.94z\"/><path d=\"M17.41 7.96l-1.37-1.37c-.4-.4-.92-.59-1.43-.59-.52 0-1.04.2-1.43.59L10.3 9.45l-7.72 7.72c-.78.78-.78 2.05 0 2.83L4 21.41c.39.39.9.59 1.41.59.51 0 1.02-.2 1.41-.59l7.78-7.78 2.81-2.81c.8-.78.8-2.07 0-2.86zM5.41 20L4 18.59l7.72-7.72 1.47 1.35L5.41 20z\"/>\n",
              "  </svg>\n",
              "      </button>\n",
              "      \n",
              "  <style>\n",
              "    .colab-df-container {\n",
              "      display:flex;\n",
              "      flex-wrap:wrap;\n",
              "      gap: 12px;\n",
              "    }\n",
              "\n",
              "    .colab-df-convert {\n",
              "      background-color: #E8F0FE;\n",
              "      border: none;\n",
              "      border-radius: 50%;\n",
              "      cursor: pointer;\n",
              "      display: none;\n",
              "      fill: #1967D2;\n",
              "      height: 32px;\n",
              "      padding: 0 0 0 0;\n",
              "      width: 32px;\n",
              "    }\n",
              "\n",
              "    .colab-df-convert:hover {\n",
              "      background-color: #E2EBFA;\n",
              "      box-shadow: 0px 1px 2px rgba(60, 64, 67, 0.3), 0px 1px 3px 1px rgba(60, 64, 67, 0.15);\n",
              "      fill: #174EA6;\n",
              "    }\n",
              "\n",
              "    [theme=dark] .colab-df-convert {\n",
              "      background-color: #3B4455;\n",
              "      fill: #D2E3FC;\n",
              "    }\n",
              "\n",
              "    [theme=dark] .colab-df-convert:hover {\n",
              "      background-color: #434B5C;\n",
              "      box-shadow: 0px 1px 3px 1px rgba(0, 0, 0, 0.15);\n",
              "      filter: drop-shadow(0px 1px 2px rgba(0, 0, 0, 0.3));\n",
              "      fill: #FFFFFF;\n",
              "    }\n",
              "  </style>\n",
              "\n",
              "      <script>\n",
              "        const buttonEl =\n",
              "          document.querySelector('#df-c61c5454-fcb6-42e7-8e23-456c96359958 button.colab-df-convert');\n",
              "        buttonEl.style.display =\n",
              "          google.colab.kernel.accessAllowed ? 'block' : 'none';\n",
              "\n",
              "        async function convertToInteractive(key) {\n",
              "          const element = document.querySelector('#df-c61c5454-fcb6-42e7-8e23-456c96359958');\n",
              "          const dataTable =\n",
              "            await google.colab.kernel.invokeFunction('convertToInteractive',\n",
              "                                                     [key], {});\n",
              "          if (!dataTable) return;\n",
              "\n",
              "          const docLinkHtml = 'Like what you see? Visit the ' +\n",
              "            '<a target=\"_blank\" href=https://colab.research.google.com/notebooks/data_table.ipynb>data table notebook</a>'\n",
              "            + ' to learn more about interactive tables.';\n",
              "          element.innerHTML = '';\n",
              "          dataTable['output_type'] = 'display_data';\n",
              "          await google.colab.output.renderOutput(dataTable, element);\n",
              "          const docLink = document.createElement('div');\n",
              "          docLink.innerHTML = docLinkHtml;\n",
              "          element.appendChild(docLink);\n",
              "        }\n",
              "      </script>\n",
              "    </div>\n",
              "  </div>\n",
              "  "
            ]
          },
          "metadata": {},
          "execution_count": 6
        }
      ]
    },
    {
      "cell_type": "code",
      "source": [
        "plt.boxplot([iris.SepalLengthCm, iris.SepalWidthCm, iris.PetalLengthCm, iris.PetalWidthCm], # create a boxplot of the four columns of the \"iris\" DataFrame containing the measurements of the Sepal and Petal dimensions of the flowers\n",
        "           labels=['SepalLength', 'SepalWidth', 'PetalLength', 'PetalWidth'])  # label the boxplot with the names of the four columns\n",
        "plt.show()  # display the boxplot"
      ],
      "metadata": {
        "colab": {
          "base_uri": "https://localhost:8080/",
          "height": 430
        },
        "id": "3vYCcdvDxf_U",
        "outputId": "5e0534fc-e76d-4d17-e13c-6ca1416a4db7"
      },
      "execution_count": null,
      "outputs": [
        {
          "output_type": "display_data",
          "data": {
            "text/plain": [
              "<Figure size 640x480 with 1 Axes>"
            ],
            "image/png": "[encoded data removed]"
          },
          "metadata": {}
        }
      ]
    },
    {
      "cell_type": "code",
      "source": [
        "iris.Species.hist(edgecolor='red', linewidth=2);  # create a histogram of the \"Species\" column in the \"iris\" DataFrame with red edges and a linewidth of 2\n"
      ],
      "metadata": {
        "colab": {
          "base_uri": "https://localhost:8080/",
          "height": 430
        },
        "id": "kUlnR0hV5wRS",
        "outputId": "ed47931f-0401-408f-9e92-4c04f4801b82"
      },
      "execution_count": null,
      "outputs": [
        {
          "output_type": "display_data",
          "data": {
            "text/plain": [
              "<Figure size 640x480 with 1 Axes>"
            ],
            "image/png": "[encoded data removed]"
          },
          "metadata": {}
        }
      ]
    },
    {
      "cell_type": "code",
      "source": [
        " #dropping the Id column as it is unecessary, axis=1 specifies that it should be column wise, inplace =1 means the changes should be reflected into the dataframe\n",
        " iris.drop('Id',axis=1,inplace=True)"
      ],
      "metadata": {
        "id": "9LVj-MjdwctS"
      },
      "execution_count": null,
      "outputs": []
    },
    {
      "cell_type": "code",
      "source": [
        "from sklearn.linear_model import LogisticRegression  # import the LogisticRegression class from the sklearn.linear_model module\n",
        "from sklearn.model_selection import train_test_split  # import the train_test_split function from the sklearn.model_selection module\n",
        "from sklearn.neighbors import KNeighborsClassifier  # import the KNeighborsClassifier class from the sklearn.neighbors module\n",
        "from sklearn import svm  # import the svm module from sklearn\n",
        "from sklearn import metrics  # import the metrics module from sklearn\n",
        "from sklearn.tree import DecisionTreeClassifier  # import the DecisionTreeClassifier class from the sklearn.tree module\n"
      ],
      "metadata": {
        "id": "Ovo-fLPGwesy"
      },
      "execution_count": null,
      "outputs": []
    },
    {
      "cell_type": "code",
      "source": [
        "train, test = train_test_split(iris, test_size = 0.3)# in this our main data is split into train and test\n",
        "# the attribute test_size=0.3 splits the data into 70% and 30% ratio. train=70% and test=30%\n",
        "print(train.shape)\n",
        "print(test.shape)"
      ],
      "metadata": {
        "colab": {
          "base_uri": "https://localhost:8080/"
        },
        "id": "cT-Rga7bwo16",
        "outputId": "6ba56995-6247-4431-cb7f-c4e0c5011ccc"
      },
      "execution_count": null,
      "outputs": [
        {
          "output_type": "stream",
          "name": "stdout",
          "text": [
            "(105, 5)\n",
            "(45, 5)\n"
          ]
        }
      ]
    },
    {
      "cell_type": "code",
      "source": [
        "train_X = train[['SepalLengthCm','SepalWidthCm','PetalLengthCm','PetalWidthCm']]# taking the training data features\n",
        "train_y=train.Species# output of our training data\n",
        "test_X= test[['SepalLengthCm','SepalWidthCm','PetalLengthCm','PetalWidthCm']] # taking test data features\n",
        "test_y =test.Species   #output value of test data"
      ],
      "metadata": {
        "id": "8gPRS0ZexFA6"
      },
      "execution_count": null,
      "outputs": []
    },
    {
      "cell_type": "code",
      "source": [
        "#select the algorithm\n",
        "model = svm.SVC()\n",
        "model.fit(train_X,train_y) # we train the algorithm with the training data and the training output\n",
        "prediction=model.predict(test_X) #now we pass the testing data to the trained algorithm\n",
        "print('The accuracy of the SVM is:',metrics.accuracy_score(prediction,test_y))#now we check the accuracy of the algorithm.\n",
        "#we pass the predicted output by the model and the actual output"
      ],
      "metadata": {
        "colab": {
          "base_uri": "https://localhost:8080/"
        },
        "id": "J2bnRX0GxIFj",
        "outputId": "f70177b0-e289-4e0d-be0a-6444ce264b86"
      },
      "execution_count": null,
      "outputs": [
        {
          "output_type": "stream",
          "name": "stdout",
          "text": [
            "The accuracy of the SVM is: 0.9777777777777777\n"
          ]
        }
      ]
    },
    {
      "cell_type": "code",
      "source": [
        "model = LogisticRegression()  # create a new instance of the LogisticRegression class and store it in the variable \"model\"\n",
        "# fit the model to the training data by calling the \"fit()\" method with the training data as arguments\n",
        "model.fit(train_X,train_y)\n",
        "# use the fitted model to make predictions on the test data by calling the \"predict()\" method with the test data as an argument\n",
        "prediction=model.predict(test_X)\n",
        "# calculate and print the accuracy of the model on the test data using the \"accuracy_score()\" function from the \"metrics\" module of scikit-learn\n",
        "print('The accuracy of the Logistic Regression is',metrics.accuracy_score(prediction,test_y))"
      ],
      "metadata": {
        "colab": {
          "base_uri": "https://localhost:8080/"
        },
        "id": "F6rK1FmqxMkq",
        "outputId": "3d26419d-9e6a-4ef7-a2fd-6e018e198b0f"
      },
      "execution_count": null,
      "outputs": [
        {
          "output_type": "stream",
          "name": "stdout",
          "text": [
            "The accuracy of the Logistic Regression is 0.9555555555555556\n"
          ]
        }
      ]
    },
    {
      "cell_type": "code",
      "source": [
        "model=DecisionTreeClassifier()  # create a new instance of the DecisionTreeClassifier class and store it in the variable \"model\"\n",
        "model.fit(train_X,train_y)  # fit the model to the training data by calling the \"fit()\" method with the training data as arguments\n",
        "prediction=model.predict(test_X)  # use the fitted model to make predictions on the test data by calling the \"predict()\" method with the test data as an argument\n",
        "print('The accuracy of the Decision Tree is',metrics.accuracy_score(prediction,test_y))  # calculate and print the accuracy of the model on the test data using the \"accuracy_score()\" function from the \"metrics\" module of scikit-learn\n"
      ],
      "metadata": {
        "colab": {
          "base_uri": "https://localhost:8080/"
        },
        "id": "w1jRu04ZxQPK",
        "outputId": "e9a96db8-8d57-42fe-d330-41fee8b2052f"
      },
      "execution_count": null,
      "outputs": [
        {
          "output_type": "stream",
          "name": "stdout",
          "text": [
            "The accuracy of the Decision Tree is 0.9333333333333333\n"
          ]
        }
      ]
    },
    {
      "cell_type": "code",
      "source": [
        "import matplotlib.pyplot as plt\n",
        "import seaborn as sns"
      ],
      "metadata": {
        "id": "c2_pycX9zDMp"
      },
      "execution_count": null,
      "outputs": []
    },
    {
      "cell_type": "code",
      "source": [
        "model_name = ['SVM','Logistic Regression','Decision Tree']  # create a list of model names\n",
        "accuracy = [97.7,95.5,93.3]  # create a list of accuracy scores for each model in the same order as the \"model_name\" list\n"
      ],
      "metadata": {
        "id": "uVo0Db2WyJIj"
      },
      "execution_count": null,
      "outputs": []
    },
    {
      "cell_type": "code",
      "source": [
        "%matplotlib inline  # set the backend of matplotlib to render the plots in the Jupyter notebook\n",
        "import warnings  # import the \"warnings\" module to ignore any warning messages\n",
        "warnings.filterwarnings('ignore')  # ignore any warning messages that may be raised during the execution of the code\n",
        "plt.figure(figsize=(10,5))  # create a new figure with a size of 10 inches by 5 inches\n",
        "plt.title('Accuracy Comparison')  # set the title of the plot\n",
        "plt.xlabel('Accuracy')  # set the x-axis label of the plot\n",
        "plt.ylabel('Model')  # set the y-axis label of the plot\n",
        "sns.barplot(x = accuracy, y = model_name)  # create a bar plot with the \"accuracy\" list as the x-axis values and the \"model_name\" list as the y-axis values\n",
        "plt.tight_layout()  # adjust the layout of the plot to ensure all elements fit within the figure\n",
        "plt.show()  # display the plot\n"
      ],
      "metadata": {
        "colab": {
          "base_uri": "https://localhost:8080/",
          "height": 507
        },
        "id": "6Om3Gw468rQ1",
        "outputId": "f7835395-673a-4902-d6d2-120407b1aaea"
      },
      "execution_count": null,
      "outputs": [
        {
          "output_type": "display_data",
          "data": {
            "text/plain": [
              "<Figure size 1000x500 with 1 Axes>"
            ],
            "image/png": "[encoded data removed]"
          },
          "metadata": {}
        }
      ]
    }
  ]
}