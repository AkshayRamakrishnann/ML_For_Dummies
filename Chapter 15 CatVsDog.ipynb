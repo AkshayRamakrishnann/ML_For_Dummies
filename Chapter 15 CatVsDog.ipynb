{
 "cells": [
  {
   "cell_type": "code",
   "execution_count": 1,
   "id": "84ac4c06-5c2e-4114-8705-3aa889c020ae",
   "metadata": {},
   "outputs": [
    {
     "name": "stderr",
     "output_type": "stream",
     "text": [
      "2023-10-04 07:45:42.250704: I tensorflow/tsl/cuda/cudart_stub.cc:28] Could not find cuda drivers on your machine, GPU will not be used.\n",
      "2023-10-04 07:45:44.445823: I tensorflow/tsl/cuda/cudart_stub.cc:28] Could not find cuda drivers on your machine, GPU will not be used.\n",
      "2023-10-04 07:45:44.454605: I tensorflow/core/platform/cpu_feature_guard.cc:182] This TensorFlow binary is optimized to use available CPU instructions in performance-critical operations.\n",
      "To enable the following instructions: AVX2 AVX512F FMA, in other operations, rebuild TensorFlow with the appropriate compiler flags.\n",
      "2023-10-04 07:46:04.214598: W tensorflow/compiler/tf2tensorrt/utils/py_utils.cc:38] TF-TRT Warning: Could not find TensorRT\n"
     ]
    }
   ],
   "source": [
    "import pandas as pd\n",
    "import numpy as np\n",
    "import matplotlib.pyplot as plt\n",
    "import seaborn as sns\n",
    "from tensorflow.keras.applications import VGG16\n",
    "from tensorflow.keras.models import Sequential\n",
    "from tensorflow.keras.layers import Dense, Flatten\n",
    "from tensorflow.keras.optimizers import Adam\n",
    "from tensorflow.keras.preprocessing.image import ImageDataGenerator"
   ]
  },
  {
   "cell_type": "code",
   "execution_count": 2,
   "id": "0c3f490d-1ee1-4536-857d-bcb4c19322f9",
   "metadata": {},
   "outputs": [],
   "source": [
    "import tensorflow as tf"
   ]
  },
  {
   "cell_type": "code",
   "execution_count": 3,
   "id": "1f51699d-feb2-4206-a85c-7989f8e88c05",
   "metadata": {},
   "outputs": [
    {
     "name": "stdout",
     "output_type": "stream",
     "text": [
      "Found 8006 images belonging to 2 classes.\n",
      "Found 2023 images belonging to 2 classes.\n"
     ]
    }
   ],
   "source": [
    "# Define the directory containing the training image data for a cat and dog classification task.\n",
    "training_data_dir = 'cat-and-dog/training_set/training_set'\n",
    "\n",
    "# Initialize ImageDataGenerator for image preprocessing\n",
    "datagen = ImageDataGenerator(rescale=1./255)\n",
    "\n",
    "# Create data generators for training and test sets\n",
    "training_set = datagen.flow_from_directory(directory=training_data_dir, target_size=(32, 32),\n",
    "                                           classes=['dogs', 'cats'], class_mode='binary', batch_size=20)\n",
    "\n",
    "# Define test data directory\n",
    "test_data_dir = 'cat-and-dog/test_set/test_set'\n",
    "test_set = datagen.flow_from_directory(directory=test_data_dir, target_size=(32, 32),\n",
    "                                       classes=['dogs', 'cats'], class_mode='binary', batch_size=20)\n"
   ]
  },
  {
   "cell_type": "code",
   "execution_count": 4,
   "id": "19de1636-e4c7-469b-9585-a99750343cc8",
   "metadata": {},
   "outputs": [
    {
     "name": "stdout",
     "output_type": "stream",
     "text": [
      "Number of batches in the training set: 401\n",
      "Number of batches in the test set: 102\n"
     ]
    }
   ],
   "source": [
    "# Get the number of batches in the training and test sets\n",
    "num_batches_training = len(training_set)\n",
    "num_batches_test = len(test_set)\n",
    "\n",
    "# Print the number of batches in the training and test sets\n",
    "print(\"Number of batches in the training set:\", num_batches_training)\n",
    "print(\"Number of batches in the test set:\", num_batches_test)\n"
   ]
  },
  {
   "cell_type": "code",
   "execution_count": 5,
   "id": "332a598e-d313-47e8-bd3c-9753193b35e9",
   "metadata": {},
   "outputs": [],
   "source": [
    "# Build the neural network model\n",
    "model = tf.keras.models.Sequential()\n",
    "\n",
    "model.add(tf.keras.layers.Conv2D(filters=128, kernel_size=3, padding='same', activation='relu', input_shape=[32, 32, 3]))\n",
    "model.add(tf.keras.layers.MaxPool2D(pool_size=2, strides=2, padding='same'))\n",
    "model.add(tf.keras.layers.Conv2D(filters=128, kernel_size=3, padding='same', activation='relu'))\n",
    "model.add(tf.keras.layers.MaxPool2D(pool_size=2, strides=2, padding='same'))\n",
    "model.add(tf.keras.layers.Flatten())\n",
    "model.add(tf.keras.layers.Dropout(0.3))\n",
    "model.add(tf.keras.layers.Dense(units=256, activation='relu'))\n",
    "model.add(tf.keras.layers.Dense(units=128, activation='relu'))\n",
    "model.add(tf.keras.layers.Dense(units=1, activation='sigmoid'))"
   ]
  },
  {
   "cell_type": "code",
   "execution_count": 6,
   "id": "01f6f8d3-115a-4048-a450-298a6061d716",
   "metadata": {},
   "outputs": [],
   "source": [
    "# Compile the model\n",
    "model.compile(optimizer=tf.keras.optimizers.Adam(learning_rate=0.0001),\n",
    "              loss='binary_crossentropy',\n",
    "              metrics=['accuracy'])"
   ]
  },
  {
   "cell_type": "code",
   "execution_count": 7,
   "id": "8ad41635-e384-4192-830f-d7d31db66218",
   "metadata": {},
   "outputs": [
    {
     "name": "stdout",
     "output_type": "stream",
     "text": [
      "Epoch 1/10\n",
      "401/401 [==============================] - 84s 205ms/step - loss: 0.6655 - accuracy: 0.5919 - val_loss: 0.6277 - val_accuracy: 0.6822\n",
      "Epoch 2/10\n",
      "401/401 [==============================] - 21s 53ms/step - loss: 0.5920 - accuracy: 0.6895 - val_loss: 0.5809 - val_accuracy: 0.6990\n",
      "Epoch 3/10\n",
      "401/401 [==============================] - 17s 43ms/step - loss: 0.5418 - accuracy: 0.7290 - val_loss: 0.6052 - val_accuracy: 0.6792\n",
      "Epoch 4/10\n",
      "401/401 [==============================] - 17s 43ms/step - loss: 0.5023 - accuracy: 0.7522 - val_loss: 0.5156 - val_accuracy: 0.7459\n",
      "Epoch 5/10\n",
      "401/401 [==============================] - 17s 43ms/step - loss: 0.4785 - accuracy: 0.7728 - val_loss: 0.5002 - val_accuracy: 0.7667\n",
      "Epoch 6/10\n",
      "401/401 [==============================] - 18s 44ms/step - loss: 0.4467 - accuracy: 0.7922 - val_loss: 0.5054 - val_accuracy: 0.7692\n",
      "Epoch 7/10\n",
      "401/401 [==============================] - 18s 44ms/step - loss: 0.4217 - accuracy: 0.8128 - val_loss: 0.4880 - val_accuracy: 0.7805\n",
      "Epoch 8/10\n",
      "401/401 [==============================] - 17s 43ms/step - loss: 0.3933 - accuracy: 0.8221 - val_loss: 0.4902 - val_accuracy: 0.7771\n",
      "Epoch 9/10\n",
      "401/401 [==============================] - 17s 43ms/step - loss: 0.3765 - accuracy: 0.8306 - val_loss: 0.5368 - val_accuracy: 0.7528\n",
      "Epoch 10/10\n",
      "401/401 [==============================] - 17s 44ms/step - loss: 0.3504 - accuracy: 0.8485 - val_loss: 0.5181 - val_accuracy: 0.7657\n"
     ]
    }
   ],
   "source": [
    "# Implement early stopping\n",
    "early_stopping = tf.keras.callbacks.EarlyStopping(monitor='val_loss', patience=5, restore_best_weights=True)\n",
    "\n",
    "# Train the model\n",
    "seq_history = model.fit(\n",
    "    training_set,\n",
    "    steps_per_epoch=num_batches_training,\n",
    "    epochs=10,\n",
    "    validation_data=test_set,\n",
    "    validation_steps=num_batches_test,\n",
    "    callbacks=[early_stopping]  # Include early stopping callback\n",
    ")"
   ]
  },
  {
   "cell_type": "code",
   "execution_count": null,
   "id": "32fd3901-07ec-4c46-aeeb-5ee632ecd7ed",
   "metadata": {},
   "outputs": [],
   "source": []
  },
  {
   "cell_type": "code",
   "execution_count": 8,
   "id": "2a247c34-65df-430b-8200-35b5ea8256e8",
   "metadata": {},
   "outputs": [],
   "source": [
    "# Load pre-trained VGG16 model without top classification layers (include_top=False)\n",
    "vgg_base = VGG16(weights='imagenet', include_top=False, input_shape=(32, 32, 3))\n",
    "# Create a new model on top of the VGG16 base\n",
    "model = Sequential()\n",
    "# Add VGG16 base model\n",
    "model.add(vgg_base)\n",
    "# Flatten the output of the VGG16 base\n",
    "model.add(Flatten())\n",
    "# Add custom dense layers for binary classification\n",
    "model.add(Dense(units=256, activation='relu'))\n",
    "model.add(Dense(units=128, activation='relu'))\n",
    "model.add(Dense(units=1, activation='sigmoid'))"
   ]
  },
  {
   "cell_type": "code",
   "execution_count": 9,
   "id": "0c4b8535-da7f-452c-a665-a865db6d17d8",
   "metadata": {},
   "outputs": [
    {
     "name": "stderr",
     "output_type": "stream",
     "text": [
      "WARNING:absl:`lr` is deprecated in Keras optimizer, please use `learning_rate` or use the legacy optimizer, e.g.,tf.keras.optimizers.legacy.Adam.\n"
     ]
    }
   ],
   "source": [
    "# Compile the model\n",
    "model.compile(optimizer=Adam(lr=0.0001), loss='binary_crossentropy', metrics=['accuracy'])"
   ]
  },
  {
   "cell_type": "code",
   "execution_count": 10,
   "id": "4b1aa178-ea97-4e61-9548-bea33563c83d",
   "metadata": {},
   "outputs": [],
   "source": [
    "# Implement early stopping\n",
    "early_stopping = tf.keras.callbacks.EarlyStopping(monitor='val_loss', patience=5, restore_best_weights=True)\n"
   ]
  },
  {
   "cell_type": "code",
   "execution_count": 11,
   "id": "5cfae74b-3791-40b5-a59c-d8e9a979f86b",
   "metadata": {},
   "outputs": [
    {
     "name": "stdout",
     "output_type": "stream",
     "text": [
      "Epoch 1/10\n",
      "401/401 [==============================] - 103s 253ms/step - loss: 0.7151 - accuracy: 0.4971 - val_loss: 0.7019 - val_accuracy: 0.5002\n",
      "Epoch 2/10\n",
      "401/401 [==============================] - 102s 254ms/step - loss: 0.6947 - accuracy: 0.5037 - val_loss: 0.6960 - val_accuracy: 0.4998\n",
      "Epoch 3/10\n",
      "401/401 [==============================] - 102s 255ms/step - loss: 0.6942 - accuracy: 0.4868 - val_loss: 0.6941 - val_accuracy: 0.4998\n",
      "Epoch 4/10\n",
      "401/401 [==============================] - 101s 252ms/step - loss: 0.6960 - accuracy: 0.5051 - val_loss: 0.6932 - val_accuracy: 0.5002\n",
      "Epoch 5/10\n",
      "401/401 [==============================] - 102s 255ms/step - loss: 0.6946 - accuracy: 0.5042 - val_loss: 0.6932 - val_accuracy: 0.4998\n",
      "Epoch 6/10\n",
      "401/401 [==============================] - 103s 256ms/step - loss: 0.6933 - accuracy: 0.4893 - val_loss: 0.6932 - val_accuracy: 0.4998\n",
      "Epoch 7/10\n",
      "401/401 [==============================] - 101s 253ms/step - loss: 0.6933 - accuracy: 0.4990 - val_loss: 0.6932 - val_accuracy: 0.4998\n",
      "Epoch 8/10\n",
      "401/401 [==============================] - 102s 254ms/step - loss: 0.6932 - accuracy: 0.4988 - val_loss: 0.6931 - val_accuracy: 0.5002\n",
      "Epoch 9/10\n",
      "401/401 [==============================] - 103s 256ms/step - loss: 0.6932 - accuracy: 0.4925 - val_loss: 0.6932 - val_accuracy: 0.5002\n",
      "Epoch 10/10\n",
      "401/401 [==============================] - 101s 253ms/step - loss: 0.6932 - accuracy: 0.4963 - val_loss: 0.6931 - val_accuracy: 0.4998\n"
     ]
    }
   ],
   "source": [
    "\n",
    "# Train the model\n",
    "vgg16_history = model.fit(\n",
    "    training_set,\n",
    "    steps_per_epoch=num_batches_training,\n",
    "    epochs=10,\n",
    "    validation_data=test_set,\n",
    "    validation_steps=num_batches_test,\n",
    "    callbacks=[early_stopping]\n",
    ")"
   ]
  },
  {
   "cell_type": "code",
   "execution_count": 12,
   "id": "034c2038-a9ab-4d95-8deb-098764ee7110",
   "metadata": {},
   "outputs": [],
   "source": [
    "# Plotting the accuracy comparison using a bar graph\n",
    "models = ['Sequential Model', 'VGG16 Model']\n",
    "accuracies = [seq_history.history['accuracy'][-1] * 100, vgg16_history.history['accuracy'][-1] * 100]\n",
    "\n",
    "\n"
   ]
  },
  {
   "cell_type": "code",
   "execution_count": 13,
   "id": "59eba110-4de4-47af-89b5-e8f767daeabf",
   "metadata": {},
   "outputs": [
    {
     "data": {
      "image/png": "[encoded data removed]",
      "text/plain": [
       "<Figure size 800x600 with 1 Axes>"
      ]
     },
     "metadata": {},
     "output_type": "display_data"
    }
   ],
   "source": [
    "plt.figure(figsize=(8, 6))\n",
    "plt.bar(models, accuracies, color=['blue', 'green'])\n",
    "plt.ylabel('Accuracy (%)')\n",
    "plt.title('Accuracy Comparison: Sequential vs. VGG16')\n",
    "plt.ylim(0, 100)\n",
    "\n",
    "# Display the accuracy values on the bars\n",
    "for index, value in enumerate(accuracies):\n",
    "    plt.text(index, value + 2, str(round(value, 2)) + '%', ha='center', va='bottom', fontsize=12)\n",
    "\n",
    "plt.show()"
   ]
  }
 ],
 "metadata": {
  "kernelspec": {
   "display_name": "Python 3 (Intel® oneAPI 2023.2)",
   "language": "python",
   "name": "c009-intel_distribution_of_python_3_oneapi-beta05-python"
  },
  "language_info": {
   "codemirror_mode": {
    "name": "ipython",
    "version": 3
   },
   "file_extension": ".py",
   "mimetype": "text/x-python",
   "name": "python",
   "nbconvert_exporter": "python",
   "pygments_lexer": "ipython3",
   "version": "3.9.16"
  }
 },
 "nbformat": 4,
 "nbformat_minor": 5
}
