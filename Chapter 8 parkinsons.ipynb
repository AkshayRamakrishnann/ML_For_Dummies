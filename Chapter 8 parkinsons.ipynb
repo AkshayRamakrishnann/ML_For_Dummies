{
  "nbformat": 4,
  "nbformat_minor": 0,
  "metadata": {
    "colab": {
      "provenance": []
    },
    "kernelspec": {
      "name": "python3",
      "display_name": "Python 3"
    },
    "language_info": {
      "name": "python"
    }
  },
  "cells": [
    {
      "cell_type": "code",
      "execution_count": null,
      "metadata": {
        "id": "wAyfMSEJsVSr"
      },
      "outputs": [],
      "source": [
        "import pandas as pd  # Importing the pandas library for data manipulation\n",
        "import matplotlib.pyplot as plt  # Importing the matplotlib library for data visualization\n",
        "import seaborn as sns  # Importing the seaborn library for enhanced visualizations\n",
        "from sklearn.model_selection import train_test_split  # Importing train_test_split function for data splitting\n",
        "from sklearn.preprocessing import StandardScaler, PolynomialFeatures  # Importing StandardScaler and PolynomialFeatures for data preprocessing\n",
        "from sklearn.ensemble import IsolationForest  # Importing IsolationForest for outlier analysis\n",
        "from sklearn.discriminant_analysis import LinearDiscriminantAnalysis  # Importing LinearDiscriminantAnalysis for LDA\n",
        "from sklearn.linear_model import LinearRegression  # Importing LinearRegression for linear regression\n",
        "from sklearn.tree import DecisionTreeClassifier  # Importing DecisionTreeClassifier for decision tree classification\n",
        "from sklearn.metrics import accuracy_score  # Importing accuracy_score for evaluating model performance\n"
      ]
    },
    {
      "cell_type": "code",
      "source": [
        "# Load the dataset\n",
        "data = pd.read_csv('/content/parkinsons.csv')"
      ],
      "metadata": {
        "id": "0SOSOWIEkvzU"
      },
      "execution_count": null,
      "outputs": []
    },
    {
      "cell_type": "code",
      "source": [
        "data.head(2)"
      ],
      "metadata": {
        "colab": {
          "base_uri": "https://localhost:8080/",
          "height": 142
        },
        "id": "jQvkrC6z3Emb",
        "outputId": "bb058697-0f71-4707-f123-12a7f86e48a4"
      },
      "execution_count": null,
      "outputs": [
        {
          "output_type": "execute_result",
          "data": {
            "text/plain": [
              "             name  MDVP:Fo(Hz)  MDVP:Fhi(Hz)  MDVP:Flo(Hz)  MDVP:Jitter(%)  \\\n",
              "0  phon_R01_S01_1      119.992       157.302        74.997         0.00784   \n",
              "1  phon_R01_S01_2      122.400       148.650       113.819         0.00968   \n",
              "\n",
              "   MDVP:Jitter(Abs)  MDVP:RAP  MDVP:PPQ  Jitter:DDP  MDVP:Shimmer  ...  \\\n",
              "0           0.00007   0.00370   0.00554     0.01109       0.04374  ...   \n",
              "1           0.00008   0.00465   0.00696     0.01394       0.06134  ...   \n",
              "\n",
              "   Shimmer:DDA      NHR     HNR  status      RPDE       DFA   spread1  \\\n",
              "0      0.06545  0.02211  21.033       1  0.414783  0.815285 -4.813031   \n",
              "1      0.09403  0.01929  19.085       1  0.458359  0.819521 -4.075192   \n",
              "\n",
              "    spread2        D2       PPE  \n",
              "0  0.266482  2.301442  0.284654  \n",
              "1  0.335590  2.486855  0.368674  \n",
              "\n",
              "[2 rows x 24 columns]"
            ],
            "text/html": [
              "\n",
              "  <div id=\"df-5df6465b-b0a0-4ffe-93de-136e6fb49205\">\n",
              "    <div class=\"colab-df-container\">\n",
              "      <div>\n",
              "<style scoped>\n",
              "    .dataframe tbody tr th:only-of-type {\n",
              "        vertical-align: middle;\n",
              "    }\n",
              "\n",
              "    .dataframe tbody tr th {\n",
              "        vertical-align: top;\n",
              "    }\n",
              "\n",
              "    .dataframe thead th {\n",
              "        text-align: right;\n",
              "    }\n",
              "</style>\n",
              "<table border=\"1\" class=\"dataframe\">\n",
              "  <thead>\n",
              "    <tr style=\"text-align: right;\">\n",
              "      <th></th>\n",
              "      <th>name</th>\n",
              "      <th>MDVP:Fo(Hz)</th>\n",
              "      <th>MDVP:Fhi(Hz)</th>\n",
              "      <th>MDVP:Flo(Hz)</th>\n",
              "      <th>MDVP:Jitter(%)</th>\n",
              "      <th>MDVP:Jitter(Abs)</th>\n",
              "      <th>MDVP:RAP</th>\n",
              "      <th>MDVP:PPQ</th>\n",
              "      <th>Jitter:DDP</th>\n",
              "      <th>MDVP:Shimmer</th>\n",
              "      <th>...</th>\n",
              "      <th>Shimmer:DDA</th>\n",
              "      <th>NHR</th>\n",
              "      <th>HNR</th>\n",
              "      <th>status</th>\n",
              "      <th>RPDE</th>\n",
              "      <th>DFA</th>\n",
              "      <th>spread1</th>\n",
              "      <th>spread2</th>\n",
              "      <th>D2</th>\n",
              "      <th>PPE</th>\n",
              "    </tr>\n",
              "  </thead>\n",
              "  <tbody>\n",
              "    <tr>\n",
              "      <th>0</th>\n",
              "      <td>phon_R01_S01_1</td>\n",
              "      <td>119.992</td>\n",
              "      <td>157.302</td>\n",
              "      <td>74.997</td>\n",
              "      <td>0.00784</td>\n",
              "      <td>0.00007</td>\n",
              "      <td>0.00370</td>\n",
              "      <td>0.00554</td>\n",
              "      <td>0.01109</td>\n",
              "      <td>0.04374</td>\n",
              "      <td>...</td>\n",
              "      <td>0.06545</td>\n",
              "      <td>0.02211</td>\n",
              "      <td>21.033</td>\n",
              "      <td>1</td>\n",
              "      <td>0.414783</td>\n",
              "      <td>0.815285</td>\n",
              "      <td>-4.813031</td>\n",
              "      <td>0.266482</td>\n",
              "      <td>2.301442</td>\n",
              "      <td>0.284654</td>\n",
              "    </tr>\n",
              "    <tr>\n",
              "      <th>1</th>\n",
              "      <td>phon_R01_S01_2</td>\n",
              "      <td>122.400</td>\n",
              "      <td>148.650</td>\n",
              "      <td>113.819</td>\n",
              "      <td>0.00968</td>\n",
              "      <td>0.00008</td>\n",
              "      <td>0.00465</td>\n",
              "      <td>0.00696</td>\n",
              "      <td>0.01394</td>\n",
              "      <td>0.06134</td>\n",
              "      <td>...</td>\n",
              "      <td>0.09403</td>\n",
              "      <td>0.01929</td>\n",
              "      <td>19.085</td>\n",
              "      <td>1</td>\n",
              "      <td>0.458359</td>\n",
              "      <td>0.819521</td>\n",
              "      <td>-4.075192</td>\n",
              "      <td>0.335590</td>\n",
              "      <td>2.486855</td>\n",
              "      <td>0.368674</td>\n",
              "    </tr>\n",
              "  </tbody>\n",
              "</table>\n",
              "<p>2 rows × 24 columns</p>\n",
              "</div>\n",
              "      <button class=\"colab-df-convert\" onclick=\"convertToInteractive('df-5df6465b-b0a0-4ffe-93de-136e6fb49205')\"\n",
              "              title=\"Convert this dataframe to an interactive table.\"\n",
              "              style=\"display:none;\">\n",
              "        \n",
              "  <svg xmlns=\"http://www.w3.org/2000/svg\" height=\"24px\"viewBox=\"0 0 24 24\"\n",
              "       width=\"24px\">\n",
              "    <path d=\"M0 0h24v24H0V0z\" fill=\"none\"/>\n",
              "    <path d=\"M18.56 5.44l.94 2.06.94-2.06 2.06-.94-2.06-.94-.94-2.06-.94 2.06-2.06.94zm-11 1L8.5 8.5l.94-2.06 2.06-.94-2.06-.94L8.5 2.5l-.94 2.06-2.06.94zm10 10l.94 2.06.94-2.06 2.06-.94-2.06-.94-.94-2.06-.94 2.06-2.06.94z\"/><path d=\"M17.41 7.96l-1.37-1.37c-.4-.4-.92-.59-1.43-.59-.52 0-1.04.2-1.43.59L10.3 9.45l-7.72 7.72c-.78.78-.78 2.05 0 2.83L4 21.41c.39.39.9.59 1.41.59.51 0 1.02-.2 1.41-.59l7.78-7.78 2.81-2.81c.8-.78.8-2.07 0-2.86zM5.41 20L4 18.59l7.72-7.72 1.47 1.35L5.41 20z\"/>\n",
              "  </svg>\n",
              "      </button>\n",
              "      \n",
              "  <style>\n",
              "    .colab-df-container {\n",
              "      display:flex;\n",
              "      flex-wrap:wrap;\n",
              "      gap: 12px;\n",
              "    }\n",
              "\n",
              "    .colab-df-convert {\n",
              "      background-color: #E8F0FE;\n",
              "      border: none;\n",
              "      border-radius: 50%;\n",
              "      cursor: pointer;\n",
              "      display: none;\n",
              "      fill: #1967D2;\n",
              "      height: 32px;\n",
              "      padding: 0 0 0 0;\n",
              "      width: 32px;\n",
              "    }\n",
              "\n",
              "    .colab-df-convert:hover {\n",
              "      background-color: #E2EBFA;\n",
              "      box-shadow: 0px 1px 2px rgba(60, 64, 67, 0.3), 0px 1px 3px 1px rgba(60, 64, 67, 0.15);\n",
              "      fill: #174EA6;\n",
              "    }\n",
              "\n",
              "    [theme=dark] .colab-df-convert {\n",
              "      background-color: #3B4455;\n",
              "      fill: #D2E3FC;\n",
              "    }\n",
              "\n",
              "    [theme=dark] .colab-df-convert:hover {\n",
              "      background-color: #434B5C;\n",
              "      box-shadow: 0px 1px 3px 1px rgba(0, 0, 0, 0.15);\n",
              "      filter: drop-shadow(0px 1px 2px rgba(0, 0, 0, 0.3));\n",
              "      fill: #FFFFFF;\n",
              "    }\n",
              "  </style>\n",
              "\n",
              "      <script>\n",
              "        const buttonEl =\n",
              "          document.querySelector('#df-5df6465b-b0a0-4ffe-93de-136e6fb49205 button.colab-df-convert');\n",
              "        buttonEl.style.display =\n",
              "          google.colab.kernel.accessAllowed ? 'block' : 'none';\n",
              "\n",
              "        async function convertToInteractive(key) {\n",
              "          const element = document.querySelector('#df-5df6465b-b0a0-4ffe-93de-136e6fb49205');\n",
              "          const dataTable =\n",
              "            await google.colab.kernel.invokeFunction('convertToInteractive',\n",
              "                                                     [key], {});\n",
              "          if (!dataTable) return;\n",
              "\n",
              "          const docLinkHtml = 'Like what you see? Visit the ' +\n",
              "            '<a target=\"_blank\" href=https://colab.research.google.com/notebooks/data_table.ipynb>data table notebook</a>'\n",
              "            + ' to learn more about interactive tables.';\n",
              "          element.innerHTML = '';\n",
              "          dataTable['output_type'] = 'display_data';\n",
              "          await google.colab.output.renderOutput(dataTable, element);\n",
              "          const docLink = document.createElement('div');\n",
              "          docLink.innerHTML = docLinkHtml;\n",
              "          element.appendChild(docLink);\n",
              "        }\n",
              "      </script>\n",
              "    </div>\n",
              "  </div>\n",
              "  "
            ]
          },
          "metadata": {},
          "execution_count": 4
        }
      ]
    },
    {
      "cell_type": "code",
      "source": [
        "data.shape"
      ],
      "metadata": {
        "colab": {
          "base_uri": "https://localhost:8080/"
        },
        "id": "e0IpcyudzuSR",
        "outputId": "ffefd4e8-0800-45a0-dce1-7e774cc13b23"
      },
      "execution_count": null,
      "outputs": [
        {
          "output_type": "execute_result",
          "data": {
            "text/plain": [
              "(195, 24)"
            ]
          },
          "metadata": {},
          "execution_count": 5
        }
      ]
    },
    {
      "cell_type": "code",
      "source": [
        "# Separate features and target variable\n",
        "X = data.drop(['name', 'status'], axis=1)\n",
        "y = data['status']"
      ],
      "metadata": {
        "id": "2aQVn0HVzDHl"
      },
      "execution_count": null,
      "outputs": []
    },
    {
      "cell_type": "code",
      "source": [
        "X.shape"
      ],
      "metadata": {
        "colab": {
          "base_uri": "https://localhost:8080/"
        },
        "id": "4pntt-vqz3Tn",
        "outputId": "f3801964-30e3-41da-af66-e1ffc074b6bc"
      },
      "execution_count": null,
      "outputs": [
        {
          "output_type": "execute_result",
          "data": {
            "text/plain": [
              "(195, 22)"
            ]
          },
          "metadata": {},
          "execution_count": 7
        }
      ]
    },
    {
      "cell_type": "code",
      "source": [
        "# Visualize Outlier Detection\n",
        "plt.figure(figsize=(8, 6))\n",
        "sns.scatterplot(x=X.index, y=X['MDVP:Fo(Hz)'], hue=outliers, palette='Set1')\n",
        "plt.xlabel('Sample Index')\n",
        "plt.ylabel('MDVP:Fo(Hz)')\n",
        "plt.title('Outlier Detection: MDVP:Fo(Hz)')\n",
        "plt.show()"
      ],
      "metadata": {
        "colab": {
          "base_uri": "https://localhost:8080/",
          "height": 564
        },
        "id": "_zVG3cz81WWv",
        "outputId": "120c5bb7-f9a8-41ac-ddf5-1daedc051be5"
      },
      "execution_count": null,
      "outputs": [
        {
          "output_type": "display_data",
          "data": {
            "text/plain": [
              "<Figure size 800x600 with 1 Axes>"
            ],
            "image/png": "[encoded data removed]"
          },
          "metadata": {}
        }
      ]
    },
    {
      "cell_type": "code",
      "source": [
        "# Outlier Analysis\n",
        "outlier_detector = IsolationForest(contamination=0.05)  # Creating an Isolation Forest outlier detector\n",
        "outlier_detector.fit(X)  # Fitting the outlier detector on the features\n",
        "outliers = outlier_detector.predict(X)  # Predicting outliers in the features\n",
        "X_no_outliers= X[outliers == 1]  # Keeping only the non-outlier samples\n",
        "y_no_outliers = y[outliers == 1]  # Keeping only the corresponding target variable"
      ],
      "metadata": {
        "colab": {
          "base_uri": "https://localhost:8080/"
        },
        "id": "XJiREbDuzHWB",
        "outputId": "f78fe5e3-1d44-46de-93b1-fe98d4b8fea6"
      },
      "execution_count": null,
      "outputs": [
        {
          "output_type": "stream",
          "name": "stderr",
          "text": [
            "/usr/local/lib/python3.10/dist-packages/sklearn/base.py:439: UserWarning: X does not have valid feature names, but IsolationForest was fitted with feature names\n",
            "  warnings.warn(\n"
          ]
        }
      ]
    },
    {
      "cell_type": "code",
      "source": [
        "X_no_outliers.shape #outliers removed"
      ],
      "metadata": {
        "colab": {
          "base_uri": "https://localhost:8080/"
        },
        "id": "MYwRz5ciz39k",
        "outputId": "ebfb5249-3ff2-415d-a614-f92f6a1052d5"
      },
      "execution_count": null,
      "outputs": [
        {
          "output_type": "execute_result",
          "data": {
            "text/plain": [
              "(185, 22)"
            ]
          },
          "metadata": {},
          "execution_count": 10
        }
      ]
    },
    {
      "cell_type": "code",
      "source": [
        "# Split the data into training and testing sets\n",
        "X_train, X_test, y_train, y_test = train_test_split(X_no_outliers, y_no_outliers, test_size=0.2, random_state=42)"
      ],
      "metadata": {
        "id": "_Bzlirf8zUIL"
      },
      "execution_count": null,
      "outputs": []
    },
    {
      "cell_type": "code",
      "source": [
        "# Perform feature scaling\n",
        "scaler = StandardScaler()\n",
        "X_train_scaled = scaler.fit_transform(X_train)\n",
        "X_test_scaled = scaler.transform(X_test)"
      ],
      "metadata": {
        "id": "Cfar6p35zaj4"
      },
      "execution_count": null,
      "outputs": []
    },
    {
      "cell_type": "code",
      "source": [
        "# Apply polynomial feature engineering\n",
        "poly = PolynomialFeatures(degree=2)\n",
        "X_train_poly = poly.fit_transform(X_train_scaled)\n",
        "X_test_poly = poly.transform(X_test_scaled)"
      ],
      "metadata": {
        "id": "CmMgu1LUze9c"
      },
      "execution_count": null,
      "outputs": []
    },
    {
      "cell_type": "code",
      "source": [
        "# Linear Discriminant Analysis (LDA)\n",
        "lda = LinearDiscriminantAnalysis()  # Creating an LDA classifier\n",
        "lda.fit(X_train_scaled, y_train)  # Fitting the LDA classifier on the training data\n",
        "y_pred_lda = lda.predict(X_test_scaled)  # Making predictions using the LDA classifier\n",
        "accuracy_lda = accuracy_score(y_test, y_pred_lda)  # Calculating accuracy of LDA predictions\n",
        "print(\"LDA Accuracy:\", accuracy_lda)\n",
        "\n",
        "# Linear Regression\n",
        "linear_reg = LinearRegression()  # Creating a Linear Regression model\n",
        "linear_reg.fit(X_train_scaled, y_train)  # Fitting the Linear Regression model on the training data\n",
        "y_pred_linear = linear_reg.predict(X_test_scaled)  # Making predictions using the Linear Regression model\n",
        "y_pred_linear = [1 if val >= 0.5 else 0 for val in y_pred_linear]  # Converting predictions to binary values\n",
        "accuracy_linear = accuracy_score(y_test, y_pred_linear)  # Calculating accuracy of Linear Regression predictions\n",
        "print(\"Linear Regression Accuracy:\", accuracy_linear)\n",
        "\n",
        "# Decision Tree Classifier\n",
        "dt_classifier = DecisionTreeClassifier()  # Creating a Decision Tree Classifier\n",
        "dt_classifier.fit(X_train_poly, y_train)  # Fitting the Decision Tree Classifier on the polynomial features\n",
        "y_pred_dt = dt_classifier.predict(X_test_poly)  # Making predictions using the Decision Tree Classifier\n",
        "accuracy_dt = accuracy_score(y_test, y_pred_dt)  # Calculating accuracy of Decision Tree predictions\n",
        "print(\"Decision Tree Accuracy:\", accuracy_dt)"
      ],
      "metadata": {
        "colab": {
          "base_uri": "https://localhost:8080/"
        },
        "id": "T6WN3Z8MziK0",
        "outputId": "2fbdfe64-a9f7-4e5d-8d6b-d223a96cae44"
      },
      "execution_count": null,
      "outputs": [
        {
          "output_type": "stream",
          "name": "stdout",
          "text": [
            "LDA Accuracy: 0.8648648648648649\n",
            "Linear Regression Accuracy: 0.8918918918918919\n",
            "Decision Tree Accuracy: 0.8108108108108109\n"
          ]
        }
      ]
    },
    {
      "cell_type": "code",
      "source": [
        "import numpy as np\n",
        "import matplotlib.pyplot as plt\n",
        "# Create a list of model names and their corresponding accuracies\n",
        "models = ['LDA', 'Linear Regression', 'Decision Tree']\n",
        "accuracies = [accuracy_lda, accuracy_linear, accuracy_dt]\n",
        "# Calculate the number of models\n",
        "num_models = len(models)\n",
        "# Create an array of angles for the radar plot\n",
        "angles = np.linspace(0, 2 * np.pi, num_models, endpoint=False).tolist()\n",
        "angles += angles[:1]  # Close the plot by repeating the first angle\n",
        "# Convert the accuracies to a circular format\n",
        "circular_accuracies = accuracies + [accuracies[0]]\n",
        "# Create a figure and axis for the radar plot\n",
        "fig, ax = plt.subplots(figsize=(5, 5), subplot_kw={'polar': True})\n",
        "# Plot the radar plot\n",
        "ax.plot(angles, circular_accuracies, 'o-', linewidth=2)\n",
        "# Set the labels for each axis\n",
        "ax.set_xticks(angles[:-1])\n",
        "ax.set_xticklabels(models)\n",
        "# Set the y-axis limit based on the maximum accuracy\n",
        "max_accuracy = max(accuracies)\n",
        "ax.set_ylim(0, max_accuracy + 0.1)\n",
        "# Set the title and gridlines\n",
        "ax.set_title('Accuracy Comparison', pad=20)\n",
        "ax.grid(True)\n",
        "# Display the radar plot\n",
        "plt.show()"
      ],
      "metadata": {
        "id": "45dNMBif1hn3"
      },
      "execution_count": null,
      "outputs": []
    }
  ]
}