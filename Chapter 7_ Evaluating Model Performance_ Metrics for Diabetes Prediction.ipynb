{
  "nbformat": 4,
  "nbformat_minor": 0,
  "metadata": {
    "colab": {
      "provenance": []
    },
    "kernelspec": {
      "name": "python3",
      "display_name": "Python 3"
    },
    "language_info": {
      "name": "python"
    }
  },
  "cells": [
    {
      "cell_type": "code",
      "execution_count": null,
      "metadata": {
        "id": "PnxRio2miD4A"
      },
      "outputs": [],
      "source": [
        "# Importing Libraries and Loading the Data\n",
        "import pandas as pd  # Import pandas library for data manipulation\n",
        "import numpy as np  # Import numpy library for numerical operations\n",
        "from sklearn.model_selection import train_test_split  # Import train_test_split function for data splitting\n",
        "from sklearn.preprocessing import StandardScaler  # Import StandardScaler for feature scaling\n",
        "from sklearn.linear_model import LogisticRegression  # Import LogisticRegression classifier\n",
        "from sklearn.ensemble import RandomForestClassifier  # Import RandomForestClassifier\n",
        "from sklearn.svm import SVC  # Import Support Vector Machines (SVM) classifier\n",
        "from sklearn.metrics import accuracy_score, precision_score, recall_score, f1_score, roc_auc_score  # Import evaluation metrics\n"
      ]
    },
    {
      "cell_type": "code",
      "source": [
        "# Load the Pima Indians Diabetes dataset\n",
        "data = pd.read_csv(\"/content/diabetes.csv\")  # Read the dataset using pandas' read_csv function\n",
        "\n"
      ],
      "metadata": {
        "id": "IO2gKfoPiTB5"
      },
      "execution_count": null,
      "outputs": []
    },
    {
      "cell_type": "code",
      "source": [
        "data.head()"
      ],
      "metadata": {
        "colab": {
          "base_uri": "https://localhost:8080/",
          "height": 207
        },
        "id": "LRLuxuddUU5z",
        "outputId": "5fde7cd4-1af9-4e82-e840-76134d8a8a5f"
      },
      "execution_count": null,
      "outputs": [
        {
          "output_type": "execute_result",
          "data": {
            "text/plain": [
              "   Pregnancies  Glucose  BloodPressure  SkinThickness  Insulin   BMI  \\\n",
              "0            6      148             72             35        0  33.6   \n",
              "1            1       85             66             29        0  26.6   \n",
              "2            8      183             64              0        0  23.3   \n",
              "3            1       89             66             23       94  28.1   \n",
              "4            0      137             40             35      168  43.1   \n",
              "\n",
              "   DiabetesPedigreeFunction  Age  Outcome  \n",
              "0                     0.627   50        1  \n",
              "1                     0.351   31        0  \n",
              "2                     0.672   32        1  \n",
              "3                     0.167   21        0  \n",
              "4                     2.288   33        1  "
            ],
            "text/html": [
              "\n",
              "  <div id=\"df-e211b3ff-0587-44d4-becc-70e218d37667\">\n",
              "    <div class=\"colab-df-container\">\n",
              "      <div>\n",
              "<style scoped>\n",
              "    .dataframe tbody tr th:only-of-type {\n",
              "        vertical-align: middle;\n",
              "    }\n",
              "\n",
              "    .dataframe tbody tr th {\n",
              "        vertical-align: top;\n",
              "    }\n",
              "\n",
              "    .dataframe thead th {\n",
              "        text-align: right;\n",
              "    }\n",
              "</style>\n",
              "<table border=\"1\" class=\"dataframe\">\n",
              "  <thead>\n",
              "    <tr style=\"text-align: right;\">\n",
              "      <th></th>\n",
              "      <th>Pregnancies</th>\n",
              "      <th>Glucose</th>\n",
              "      <th>BloodPressure</th>\n",
              "      <th>SkinThickness</th>\n",
              "      <th>Insulin</th>\n",
              "      <th>BMI</th>\n",
              "      <th>DiabetesPedigreeFunction</th>\n",
              "      <th>Age</th>\n",
              "      <th>Outcome</th>\n",
              "    </tr>\n",
              "  </thead>\n",
              "  <tbody>\n",
              "    <tr>\n",
              "      <th>0</th>\n",
              "      <td>6</td>\n",
              "      <td>148</td>\n",
              "      <td>72</td>\n",
              "      <td>35</td>\n",
              "      <td>0</td>\n",
              "      <td>33.6</td>\n",
              "      <td>0.627</td>\n",
              "      <td>50</td>\n",
              "      <td>1</td>\n",
              "    </tr>\n",
              "    <tr>\n",
              "      <th>1</th>\n",
              "      <td>1</td>\n",
              "      <td>85</td>\n",
              "      <td>66</td>\n",
              "      <td>29</td>\n",
              "      <td>0</td>\n",
              "      <td>26.6</td>\n",
              "      <td>0.351</td>\n",
              "      <td>31</td>\n",
              "      <td>0</td>\n",
              "    </tr>\n",
              "    <tr>\n",
              "      <th>2</th>\n",
              "      <td>8</td>\n",
              "      <td>183</td>\n",
              "      <td>64</td>\n",
              "      <td>0</td>\n",
              "      <td>0</td>\n",
              "      <td>23.3</td>\n",
              "      <td>0.672</td>\n",
              "      <td>32</td>\n",
              "      <td>1</td>\n",
              "    </tr>\n",
              "    <tr>\n",
              "      <th>3</th>\n",
              "      <td>1</td>\n",
              "      <td>89</td>\n",
              "      <td>66</td>\n",
              "      <td>23</td>\n",
              "      <td>94</td>\n",
              "      <td>28.1</td>\n",
              "      <td>0.167</td>\n",
              "      <td>21</td>\n",
              "      <td>0</td>\n",
              "    </tr>\n",
              "    <tr>\n",
              "      <th>4</th>\n",
              "      <td>0</td>\n",
              "      <td>137</td>\n",
              "      <td>40</td>\n",
              "      <td>35</td>\n",
              "      <td>168</td>\n",
              "      <td>43.1</td>\n",
              "      <td>2.288</td>\n",
              "      <td>33</td>\n",
              "      <td>1</td>\n",
              "    </tr>\n",
              "  </tbody>\n",
              "</table>\n",
              "</div>\n",
              "      <button class=\"colab-df-convert\" onclick=\"convertToInteractive('df-e211b3ff-0587-44d4-becc-70e218d37667')\"\n",
              "              title=\"Convert this dataframe to an interactive table.\"\n",
              "              style=\"display:none;\">\n",
              "        \n",
              "  <svg xmlns=\"http://www.w3.org/2000/svg\" height=\"24px\"viewBox=\"0 0 24 24\"\n",
              "       width=\"24px\">\n",
              "    <path d=\"M0 0h24v24H0V0z\" fill=\"none\"/>\n",
              "    <path d=\"M18.56 5.44l.94 2.06.94-2.06 2.06-.94-2.06-.94-.94-2.06-.94 2.06-2.06.94zm-11 1L8.5 8.5l.94-2.06 2.06-.94-2.06-.94L8.5 2.5l-.94 2.06-2.06.94zm10 10l.94 2.06.94-2.06 2.06-.94-2.06-.94-.94-2.06-.94 2.06-2.06.94z\"/><path d=\"M17.41 7.96l-1.37-1.37c-.4-.4-.92-.59-1.43-.59-.52 0-1.04.2-1.43.59L10.3 9.45l-7.72 7.72c-.78.78-.78 2.05 0 2.83L4 21.41c.39.39.9.59 1.41.59.51 0 1.02-.2 1.41-.59l7.78-7.78 2.81-2.81c.8-.78.8-2.07 0-2.86zM5.41 20L4 18.59l7.72-7.72 1.47 1.35L5.41 20z\"/>\n",
              "  </svg>\n",
              "      </button>\n",
              "      \n",
              "  <style>\n",
              "    .colab-df-container {\n",
              "      display:flex;\n",
              "      flex-wrap:wrap;\n",
              "      gap: 12px;\n",
              "    }\n",
              "\n",
              "    .colab-df-convert {\n",
              "      background-color: #E8F0FE;\n",
              "      border: none;\n",
              "      border-radius: 50%;\n",
              "      cursor: pointer;\n",
              "      display: none;\n",
              "      fill: #1967D2;\n",
              "      height: 32px;\n",
              "      padding: 0 0 0 0;\n",
              "      width: 32px;\n",
              "    }\n",
              "\n",
              "    .colab-df-convert:hover {\n",
              "      background-color: #E2EBFA;\n",
              "      box-shadow: 0px 1px 2px rgba(60, 64, 67, 0.3), 0px 1px 3px 1px rgba(60, 64, 67, 0.15);\n",
              "      fill: #174EA6;\n",
              "    }\n",
              "\n",
              "    [theme=dark] .colab-df-convert {\n",
              "      background-color: #3B4455;\n",
              "      fill: #D2E3FC;\n",
              "    }\n",
              "\n",
              "    [theme=dark] .colab-df-convert:hover {\n",
              "      background-color: #434B5C;\n",
              "      box-shadow: 0px 1px 3px 1px rgba(0, 0, 0, 0.15);\n",
              "      filter: drop-shadow(0px 1px 2px rgba(0, 0, 0, 0.3));\n",
              "      fill: #FFFFFF;\n",
              "    }\n",
              "  </style>\n",
              "\n",
              "      <script>\n",
              "        const buttonEl =\n",
              "          document.querySelector('#df-e211b3ff-0587-44d4-becc-70e218d37667 button.colab-df-convert');\n",
              "        buttonEl.style.display =\n",
              "          google.colab.kernel.accessAllowed ? 'block' : 'none';\n",
              "\n",
              "        async function convertToInteractive(key) {\n",
              "          const element = document.querySelector('#df-e211b3ff-0587-44d4-becc-70e218d37667');\n",
              "          const dataTable =\n",
              "            await google.colab.kernel.invokeFunction('convertToInteractive',\n",
              "                                                     [key], {});\n",
              "          if (!dataTable) return;\n",
              "\n",
              "          const docLinkHtml = 'Like what you see? Visit the ' +\n",
              "            '<a target=\"_blank\" href=https://colab.research.google.com/notebooks/data_table.ipynb>data table notebook</a>'\n",
              "            + ' to learn more about interactive tables.';\n",
              "          element.innerHTML = '';\n",
              "          dataTable['output_type'] = 'display_data';\n",
              "          await google.colab.output.renderOutput(dataTable, element);\n",
              "          const docLink = document.createElement('div');\n",
              "          docLink.innerHTML = docLinkHtml;\n",
              "          element.appendChild(docLink);\n",
              "        }\n",
              "      </script>\n",
              "    </div>\n",
              "  </div>\n",
              "  "
            ]
          },
          "metadata": {},
          "execution_count": 3
        }
      ]
    },
    {
      "cell_type": "code",
      "source": [
        "data.isnull().sum()"
      ],
      "metadata": {
        "colab": {
          "base_uri": "https://localhost:8080/"
        },
        "id": "LyMuUKtTUdHN",
        "outputId": "622aede5-ff1f-4aae-80ba-f689eb5ff31d"
      },
      "execution_count": null,
      "outputs": [
        {
          "output_type": "execute_result",
          "data": {
            "text/plain": [
              "Pregnancies                 0\n",
              "Glucose                     0\n",
              "BloodPressure               0\n",
              "SkinThickness               0\n",
              "Insulin                     0\n",
              "BMI                         0\n",
              "DiabetesPedigreeFunction    0\n",
              "Age                         0\n",
              "Outcome                     0\n",
              "dtype: int64"
            ]
          },
          "metadata": {},
          "execution_count": 4
        }
      ]
    },
    {
      "cell_type": "code",
      "source": [
        "# Split the dataset into features (X) and target variable (y)\n",
        "X = data.drop(\"Outcome\", axis=1)  # Features: drop the \"Outcome\" column\n",
        "y = data[\"Outcome\"]  # Target variable: select the \"Outcome\" column\n",
        "\n",
        "# Split the data into training and testing sets\n",
        "X_train, X_test, y_train, y_test = train_test_split(X, y, test_size=0.2, random_state=42)  # Split the data into training and testing sets\n",
        "\n"
      ],
      "metadata": {
        "id": "oZpD5ecoiTev"
      },
      "execution_count": null,
      "outputs": []
    },
    {
      "cell_type": "code",
      "source": [
        "# Perform feature scaling\n",
        "scaler = StandardScaler()  # Create a StandardScaler object\n",
        "X_train_scaled = scaler.fit_transform(X_train)  # Scale the training features\n",
        "X_test_scaled = scaler.transform(X_test)  # Scale the testing features\n",
        "\n"
      ],
      "metadata": {
        "id": "pY2-jpCXiThO"
      },
      "execution_count": null,
      "outputs": []
    },
    {
      "cell_type": "code",
      "source": [
        "# Model Training and Evaluation\n",
        "\n",
        "# Logistic Regression\n",
        "logreg = LogisticRegression()  # Create a logistic regression classifier\n",
        "logreg.fit(X_train_scaled, y_train)  # Train the logistic regression model\n",
        "y_pred_logreg = logreg.predict(X_test_scaled)  # Make predictions using the logistic regression model\n",
        "\n",
        "# Random Forest\n",
        "rf_classifier = RandomForestClassifier()  # Create a Random Forest classifier\n",
        "rf_classifier.fit(X_train_scaled, y_train)  # Train the Random Forest model\n",
        "y_pred_rf = rf_classifier.predict(X_test_scaled)  # Make predictions using the Random Forest model\n",
        "\n",
        "# Support Vector Machines (SVM)\n",
        "svm_classifier = SVC()  # Create an SVM classifier\n",
        "svm_classifier.fit(X_train_scaled, y_train)  # Train the SVM model\n",
        "y_pred_svm = svm_classifier.predict(X_test_scaled)  # Make predictions using the SVM model\n",
        "\n"
      ],
      "metadata": {
        "id": "FC_zD77YiTkE"
      },
      "execution_count": null,
      "outputs": []
    },
    {
      "cell_type": "code",
      "source": [
        "# Evaluate performance\n",
        "\n",
        "# Logistic Regression\n",
        "accuracy_logreg = accuracy_score(y_test, y_pred_logreg)  # Calculate accuracy for logistic regression\n",
        "precision_logreg = precision_score(y_test, y_pred_logreg)  # Calculate precision for logistic regression\n",
        "recall_logreg = recall_score(y_test, y_pred_logreg)  # Calculate recall for logistic regression\n",
        "f1_logreg = f1_score(y_test, y_pred_logreg)  # Calculate F1 score for logistic regression\n",
        "roc_auc_logreg = roc_auc_score(y_test, y_pred_logreg)  # Calculate ROC AUC score for logistic regression\n",
        "\n",
        "# Random Forest\n",
        "accuracy_rf = accuracy_score(y_test, y_pred_rf)  # Calculate accuracy for Random Forest\n",
        "precision_rf = precision_score(y_test, y_pred_rf)  # Calculate precision for Random Forest\n",
        "recall_rf = recall_score(y_test, y_pred_rf)  # Calculate recall for Random Forest\n",
        "f1_rf = f1_score(y_test, y_pred_rf)  # Calculate F1 score for Random Forest\n",
        "roc_auc_rf = roc_auc_score(y_test, y_pred_rf)  # Calculate ROC AUC score for Random Forest\n",
        "\n",
        "# Support Vector Machines (SVM)\n",
        "accuracy_svm = accuracy_score(y_test, y_pred_svm)  # Calculate accuracy for SVM\n",
        "precision_svm = precision_score(y_test, y_pred_svm)  # Calculate precision for SVM\n",
        "recall_svm = recall_score(y_test, y_pred_svm)  # Calculate recall for SVM\n",
        "f1_svm = f1_score(y_test, y_pred_svm)  # Calculate F1 score for SVM\n",
        "roc_auc_svm = roc_auc_score(y_test, y_pred_svm)  # Calculate ROC AUC score for SVM\n"
      ],
      "metadata": {
        "id": "QTdJ3yvxidk7"
      },
      "execution_count": null,
      "outputs": []
    },
    {
      "cell_type": "code",
      "source": [
        "# Print performance metrics for Logistic Regression\n",
        "print(\"Logistic Regression:\")\n",
        "print(\"Accuracy:\", accuracy_logreg)\n",
        "print(\"Precision:\", precision_logreg)\n",
        "print(\"Recall:\", recall_logreg)\n",
        "print(\"F1 Score:\", f1_logreg)\n",
        "print(\"ROC AUC:\", roc_auc_logreg)\n",
        "print()\n",
        "\n",
        "# Print performance metrics for Random Forest\n",
        "print(\"Random Forest:\")\n",
        "print(\"Accuracy:\", accuracy_rf)\n",
        "print(\"Precision:\", precision_rf)\n",
        "print(\"Recall:\", recall_rf)\n",
        "print(\"F1 Score:\", f1_rf)\n",
        "print(\"ROC AUC:\", roc_auc_rf)\n",
        "print()\n",
        "\n",
        "# Print performance metrics for Support Vector Machines\n",
        "print(\"Support Vector Machines:\")\n",
        "print(\"Accuracy:\", accuracy_svm)\n",
        "print(\"Precision:\", precision_svm)\n",
        "print(\"Recall:\", recall_svm)\n",
        "print(\"F1 Score:\", f1_svm)\n",
        "print(\"ROC AUC:\", roc_auc_svm)\n"
      ],
      "metadata": {
        "colab": {
          "base_uri": "https://localhost:8080/"
        },
        "id": "rQE8EPrmjQyq",
        "outputId": "d3740f85-2d36-423f-a1e5-5b3caf2e78e1"
      },
      "execution_count": null,
      "outputs": [
        {
          "output_type": "stream",
          "name": "stdout",
          "text": [
            "Logistic Regression:\n",
            "Accuracy: 0.7532467532467533\n",
            "Precision: 0.6491228070175439\n",
            "Recall: 0.6727272727272727\n",
            "F1 Score: 0.6607142857142858\n",
            "ROC AUC: 0.7353535353535354\n",
            "\n",
            "Random Forest:\n",
            "Accuracy: 0.7337662337662337\n",
            "Precision: 0.6129032258064516\n",
            "Recall: 0.6909090909090909\n",
            "F1 Score: 0.6495726495726496\n",
            "ROC AUC: 0.7242424242424242\n",
            "\n",
            "Support Vector Machines:\n",
            "Accuracy: 0.7337662337662337\n",
            "Precision: 0.6458333333333334\n",
            "Recall: 0.5636363636363636\n",
            "F1 Score: 0.6019417475728155\n",
            "ROC AUC: 0.6959595959595959\n"
          ]
        }
      ]
    },
    {
      "cell_type": "code",
      "source": [
        "import matplotlib.pyplot as plt\n",
        "\n",
        "# Create a dictionary to store the performance metrics for each model\n",
        "metrics = {\n",
        "    'Logistic Regression': [accuracy_logreg, precision_logreg, recall_logreg, f1_logreg, roc_auc_logreg],\n",
        "    'Random Forest': [accuracy_rf, precision_rf, recall_rf, f1_rf, roc_auc_rf],\n",
        "    'Support Vector Machines': [accuracy_svm, precision_svm, recall_svm, f1_svm, roc_auc_svm]\n",
        "}\n",
        "\n",
        "# Create a dataframe from the metrics dictionary\n",
        "metrics_df = pd.DataFrame(metrics, index=['Accuracy', 'Precision', 'Recall', 'F1 Score', 'ROC AUC'])\n",
        "\n",
        "# Plot the performance metrics\n",
        "metrics_df.plot(kind='bar', figsize=(10, 6))\n",
        "plt.title('Performance Metrics Comparison')\n",
        "plt.xlabel('Metrics')\n",
        "plt.ylabel('Score')\n",
        "plt.xticks(rotation=45)\n",
        "plt.legend(bbox_to_anchor=(1.05, 1), loc='upper left')\n",
        "plt.tight_layout()\n",
        "plt.show()\n"
      ],
      "metadata": {
        "colab": {
          "base_uri": "https://localhost:8080/",
          "height": 607
        },
        "id": "KIhKLQTAigpQ",
        "outputId": "f5904ea3-6165-49f6-9219-9f473fdc404b"
      },
      "execution_count": null,
      "outputs": [
        {
          "output_type": "display_data",
          "data": {
            "text/plain": [
              "<Figure size 1000x600 with 1 Axes>"
            ],
            "image/png": "[encoded data removed]"
          },
          "metadata": {}
        }
      ]
    }
  ]
}